{
 "cells": [
  {
   "cell_type": "code",
   "execution_count": 15,
   "id": "85583738",
   "metadata": {},
   "outputs": [],
   "source": [
    "import streamlit as st\n",
    "import pandas as pd\n",
    "import numpy as np\n",
    "import openai\n",
    "import os\n",
    "import sys\n",
    "import json"
   ]
  },
  {
   "cell_type": "markdown",
   "id": "fd644021",
   "metadata": {},
   "source": [
    "# Data Import"
   ]
  },
  {
   "cell_type": "code",
   "execution_count": 16,
   "id": "b2218375",
   "metadata": {},
   "outputs": [],
   "source": [
    "# Load the data from XLSX\n",
    "airline_financials = pd.read_excel(\"airline_financial_data.xlsx\", sheet_name=\"airline_financials\") # primary financial data and metrics"
   ]
  },
  {
   "cell_type": "code",
   "execution_count": 17,
   "id": "4f905ace",
   "metadata": {},
   "outputs": [
    {
     "data": {
      "text/plain": [
       "['AAL', 'DAL', 'LUV', 'UAL']"
      ]
     },
     "execution_count": 17,
     "metadata": {},
     "output_type": "execute_result"
    }
   ],
   "source": [
    "# Define the list of airlines\n",
    "airlines = sorted(airline_financials[\"Airline\"].unique())\n",
    "airlines"
   ]
  },
  {
   "cell_type": "code",
   "execution_count": 18,
   "id": "1a1c6927",
   "metadata": {},
   "outputs": [
    {
     "data": {
      "text/plain": [
       "[2014, 2015, 2016, 2017, 2018, 2019, 2020, 2021, 2022, 2023, 2024, 2025]"
      ]
     },
     "execution_count": 18,
     "metadata": {},
     "output_type": "execute_result"
    }
   ],
   "source": [
    "# Define the list of years\n",
    "years = sorted(airline_financials[\"Year\"].unique())\n",
    "years"
   ]
  },
  {
   "cell_type": "code",
   "execution_count": 19,
   "id": "4438aaca",
   "metadata": {},
   "outputs": [
    {
     "data": {
      "text/plain": [
       "['FY', 'Q1', 'Q2', 'Q3', 'Q4']"
      ]
     },
     "execution_count": 19,
     "metadata": {},
     "output_type": "execute_result"
    }
   ],
   "source": [
    "# Define the list of periods\n",
    "periods = sorted(airline_financials[\"Quarter\"].apply(lambda x: f\"Q{x}\" if x != \"FY\" else x).unique())\n",
    "periods"
   ]
  },
  {
   "cell_type": "markdown",
   "id": "3e3015e1",
   "metadata": {},
   "source": [
    "# Build Summary Dictionary"
   ]
  },
  {
   "cell_type": "code",
   "execution_count": null,
   "id": "836e6758",
   "metadata": {},
   "outputs": [],
   "source": [
    "openai.api_key = \"INSERT API KEY HERE\""
   ]
  },
  {
   "cell_type": "code",
   "execution_count": 21,
   "id": "29a03afe",
   "metadata": {},
   "outputs": [],
   "source": [
    "# Define function to prompt the ChatGPT API and return a summary from training data\n",
    "# Define the API call and prompt\n",
    "def get_sec_filings_summary(airline, year, period):\n",
    "    prompt = f\"\"\"\n",
    "    Analyze all SEC filings for {airline} from {year}{period}, including all 10-Q, 10-K, 8-K filings, annual reports, and other filings.  \n",
    "    Provide the top insights for the year and period specified. Focus on the data from {year}{period} and ignore discussion of previous periods unless it provides meaningful context for current results. Provide up to 10 insights. Insights should be related to key developments in the following areas: financial, operational, commercial stratgy, labor, executive personnel, and route network. Do NOT include a topic if there is no relevant data or if there is nothing meaningful to report.\n",
    "    Do NOT under any circumstances fabricate names, dates, or numerical figures. Ensure the values are present in the underlying data. A fabrication is content not present in the SEC filings including but not limited to any mention of 'John Doe' or 'Jane Doe'.\n",
    "    Be sure to highlight any major events and their impacts and provide additional context. \n",
    "    Format the response in a structured list format grouped by topic. Present insights in chronological order as best as possible. Length of each item should fully detail the insight while being easy to read and digest. Include relevant names when discussing personnel matters. Include accurate figures when discussing financial or other metrics.\n",
    "    End the response with a single paragraph \"Wrap Up\".\n",
    "    \"\"\"\n",
    "    response = openai.chat.completions.create(\n",
    "        model=\"gpt-4o-mini\",\n",
    "        messages=[\n",
    "            {\"role\": \"system\", \"content\": \"You are an expert financial analyst summarizing SEC filings and presenting them for public consumption. Accuracy is paramount, but you should provide interesting and revelatory insights. Language and style should be a cross between an investment analyst report and business media reporting.\"},\n",
    "            {\"role\": \"user\", \"content\": prompt}\n",
    "        ],\n",
    "        temperature=0.3\n",
    "    )\n",
    "    return response.choices[0].message.content"
   ]
  },
  {
   "cell_type": "code",
   "execution_count": 29,
   "id": "e506c0ca",
   "metadata": {},
   "outputs": [],
   "source": [
    "def insights_pipeline(airlines, years, periods, output_file=\"non_SEC_summaries.json\"):\n",
    "\n",
    "\n",
    "    # Check if the file exists and is empty, write an empty JSON array if so\n",
    "    if not os.path.exists(output_file) or os.stat(output_file).st_size == 0:\n",
    "        with open(output_file, 'w') as f:\n",
    "            json.dump({}, f)\n",
    "\n",
    "    # Load existing summaries if the file exists\n",
    "    with open(output_file, \"r\") as f:\n",
    "        try:\n",
    "            # Load existing data to append to\n",
    "            non_SEC_summaries = json.load(f)\n",
    "        except json.JSONDecodeError:\n",
    "            # Handle case where file exists but is not valid JSON\n",
    "            non_SEC_summaries = {}\n",
    "\n",
    "    for airline in airlines:\n",
    "        if airline not in non_SEC_summaries:\n",
    "            non_SEC_summaries[airline] = {}\n",
    "\n",
    "        for year in years:\n",
    "            if str(year) not in non_SEC_summaries[airline]:\n",
    "                non_SEC_summaries[airline][str(year)] = {}\n",
    "\n",
    "            for period in periods:\n",
    "                if period in non_SEC_summaries[airline][str(year)]:\n",
    "                    print(f\"Skipping {airline} {year}{period} (already summarized).\")\n",
    "                    continue  # Skip if already summarized\n",
    "\n",
    "                print(f\"Summarizing the {year}{period} filings for {airline}...\")\n",
    "\n",
    "                summary = get_sec_filings_summary(airline, year, period)\n",
    "\n",
    "                # Save into hierarchy\n",
    "                non_SEC_summaries[airline][str(year)][period] = summary\n",
    "\n",
    "                # Save to JSON after each summary\n",
    "                with open(output_file, \"w\") as f:\n",
    "                    json.dump(non_SEC_summaries, f, indent=2)\n",
    "\n",
    "                print(f\"Summary saved for the {year}{period} filings for {airline}.\")\n",
    "\n",
    "    return non_SEC_summaries"
   ]
  },
  {
   "cell_type": "code",
   "execution_count": 34,
   "id": "e80ba46c",
   "metadata": {},
   "outputs": [],
   "source": [
    "airline = [\"DAL\", \"LUV\"]\n",
    "year = years[:-1]\n",
    "period = periods"
   ]
  },
  {
   "cell_type": "code",
   "execution_count": 35,
   "id": "9e74478b",
   "metadata": {},
   "outputs": [
    {
     "name": "stdout",
     "output_type": "stream",
     "text": [
      "Summarizing the 2014FY filings for DAL...\n",
      "Summary saved for the 2014FY filings for DAL.\n",
      "Summarizing the 2014Q1 filings for DAL...\n",
      "Summary saved for the 2014Q1 filings for DAL.\n",
      "Summarizing the 2014Q2 filings for DAL...\n",
      "Summary saved for the 2014Q2 filings for DAL.\n",
      "Summarizing the 2014Q3 filings for DAL...\n",
      "Summary saved for the 2014Q3 filings for DAL.\n",
      "Summarizing the 2014Q4 filings for DAL...\n",
      "Summary saved for the 2014Q4 filings for DAL.\n",
      "Summarizing the 2015FY filings for DAL...\n",
      "Summary saved for the 2015FY filings for DAL.\n",
      "Summarizing the 2015Q1 filings for DAL...\n",
      "Summary saved for the 2015Q1 filings for DAL.\n",
      "Summarizing the 2015Q2 filings for DAL...\n",
      "Summary saved for the 2015Q2 filings for DAL.\n",
      "Summarizing the 2015Q3 filings for DAL...\n",
      "Summary saved for the 2015Q3 filings for DAL.\n",
      "Summarizing the 2015Q4 filings for DAL...\n",
      "Summary saved for the 2015Q4 filings for DAL.\n",
      "Summarizing the 2016FY filings for DAL...\n",
      "Summary saved for the 2016FY filings for DAL.\n",
      "Summarizing the 2016Q1 filings for DAL...\n",
      "Summary saved for the 2016Q1 filings for DAL.\n",
      "Summarizing the 2016Q2 filings for DAL...\n",
      "Summary saved for the 2016Q2 filings for DAL.\n",
      "Summarizing the 2016Q3 filings for DAL...\n",
      "Summary saved for the 2016Q3 filings for DAL.\n",
      "Summarizing the 2016Q4 filings for DAL...\n",
      "Summary saved for the 2016Q4 filings for DAL.\n",
      "Summarizing the 2017FY filings for DAL...\n",
      "Summary saved for the 2017FY filings for DAL.\n",
      "Summarizing the 2017Q1 filings for DAL...\n",
      "Summary saved for the 2017Q1 filings for DAL.\n",
      "Summarizing the 2017Q2 filings for DAL...\n",
      "Summary saved for the 2017Q2 filings for DAL.\n",
      "Summarizing the 2017Q3 filings for DAL...\n",
      "Summary saved for the 2017Q3 filings for DAL.\n",
      "Summarizing the 2017Q4 filings for DAL...\n",
      "Summary saved for the 2017Q4 filings for DAL.\n",
      "Summarizing the 2018FY filings for DAL...\n",
      "Summary saved for the 2018FY filings for DAL.\n",
      "Summarizing the 2018Q1 filings for DAL...\n",
      "Summary saved for the 2018Q1 filings for DAL.\n",
      "Summarizing the 2018Q2 filings for DAL...\n",
      "Summary saved for the 2018Q2 filings for DAL.\n",
      "Summarizing the 2018Q3 filings for DAL...\n",
      "Summary saved for the 2018Q3 filings for DAL.\n",
      "Summarizing the 2018Q4 filings for DAL...\n",
      "Summary saved for the 2018Q4 filings for DAL.\n",
      "Summarizing the 2019FY filings for DAL...\n",
      "Summary saved for the 2019FY filings for DAL.\n",
      "Summarizing the 2019Q1 filings for DAL...\n",
      "Summary saved for the 2019Q1 filings for DAL.\n",
      "Summarizing the 2019Q2 filings for DAL...\n",
      "Summary saved for the 2019Q2 filings for DAL.\n",
      "Summarizing the 2019Q3 filings for DAL...\n",
      "Summary saved for the 2019Q3 filings for DAL.\n",
      "Summarizing the 2019Q4 filings for DAL...\n",
      "Summary saved for the 2019Q4 filings for DAL.\n",
      "Summarizing the 2020FY filings for DAL...\n",
      "Summary saved for the 2020FY filings for DAL.\n",
      "Summarizing the 2020Q1 filings for DAL...\n",
      "Summary saved for the 2020Q1 filings for DAL.\n",
      "Summarizing the 2020Q2 filings for DAL...\n",
      "Summary saved for the 2020Q2 filings for DAL.\n",
      "Summarizing the 2020Q3 filings for DAL...\n",
      "Summary saved for the 2020Q3 filings for DAL.\n",
      "Summarizing the 2020Q4 filings for DAL...\n",
      "Summary saved for the 2020Q4 filings for DAL.\n",
      "Summarizing the 2021FY filings for DAL...\n",
      "Summary saved for the 2021FY filings for DAL.\n",
      "Summarizing the 2021Q1 filings for DAL...\n",
      "Summary saved for the 2021Q1 filings for DAL.\n",
      "Summarizing the 2021Q2 filings for DAL...\n",
      "Summary saved for the 2021Q2 filings for DAL.\n",
      "Summarizing the 2021Q3 filings for DAL...\n",
      "Summary saved for the 2021Q3 filings for DAL.\n",
      "Summarizing the 2021Q4 filings for DAL...\n",
      "Summary saved for the 2021Q4 filings for DAL.\n",
      "Summarizing the 2022FY filings for DAL...\n",
      "Summary saved for the 2022FY filings for DAL.\n",
      "Skipping DAL 2022Q1 (already summarized).\n",
      "Summarizing the 2022Q2 filings for DAL...\n",
      "Summary saved for the 2022Q2 filings for DAL.\n",
      "Summarizing the 2022Q3 filings for DAL...\n",
      "Summary saved for the 2022Q3 filings for DAL.\n",
      "Summarizing the 2022Q4 filings for DAL...\n",
      "Summary saved for the 2022Q4 filings for DAL.\n",
      "Summarizing the 2023FY filings for DAL...\n",
      "Summary saved for the 2023FY filings for DAL.\n",
      "Summarizing the 2023Q1 filings for DAL...\n",
      "Summary saved for the 2023Q1 filings for DAL.\n",
      "Summarizing the 2023Q2 filings for DAL...\n",
      "Summary saved for the 2023Q2 filings for DAL.\n",
      "Summarizing the 2023Q3 filings for DAL...\n",
      "Summary saved for the 2023Q3 filings for DAL.\n",
      "Summarizing the 2023Q4 filings for DAL...\n",
      "Summary saved for the 2023Q4 filings for DAL.\n",
      "Summarizing the 2024FY filings for DAL...\n",
      "Summary saved for the 2024FY filings for DAL.\n",
      "Summarizing the 2024Q1 filings for DAL...\n",
      "Summary saved for the 2024Q1 filings for DAL.\n",
      "Summarizing the 2024Q2 filings for DAL...\n",
      "Summary saved for the 2024Q2 filings for DAL.\n",
      "Summarizing the 2024Q3 filings for DAL...\n",
      "Summary saved for the 2024Q3 filings for DAL.\n",
      "Summarizing the 2024Q4 filings for DAL...\n",
      "Summary saved for the 2024Q4 filings for DAL.\n",
      "Summarizing the 2014FY filings for LUV...\n",
      "Summary saved for the 2014FY filings for LUV.\n",
      "Summarizing the 2014Q1 filings for LUV...\n",
      "Summary saved for the 2014Q1 filings for LUV.\n",
      "Summarizing the 2014Q2 filings for LUV...\n",
      "Summary saved for the 2014Q2 filings for LUV.\n",
      "Summarizing the 2014Q3 filings for LUV...\n",
      "Summary saved for the 2014Q3 filings for LUV.\n",
      "Summarizing the 2014Q4 filings for LUV...\n",
      "Summary saved for the 2014Q4 filings for LUV.\n",
      "Summarizing the 2015FY filings for LUV...\n",
      "Summary saved for the 2015FY filings for LUV.\n",
      "Summarizing the 2015Q1 filings for LUV...\n",
      "Summary saved for the 2015Q1 filings for LUV.\n",
      "Summarizing the 2015Q2 filings for LUV...\n",
      "Summary saved for the 2015Q2 filings for LUV.\n",
      "Summarizing the 2015Q3 filings for LUV...\n",
      "Summary saved for the 2015Q3 filings for LUV.\n",
      "Summarizing the 2015Q4 filings for LUV...\n",
      "Summary saved for the 2015Q4 filings for LUV.\n",
      "Summarizing the 2016FY filings for LUV...\n",
      "Summary saved for the 2016FY filings for LUV.\n",
      "Summarizing the 2016Q1 filings for LUV...\n",
      "Summary saved for the 2016Q1 filings for LUV.\n",
      "Summarizing the 2016Q2 filings for LUV...\n",
      "Summary saved for the 2016Q2 filings for LUV.\n",
      "Summarizing the 2016Q3 filings for LUV...\n",
      "Summary saved for the 2016Q3 filings for LUV.\n",
      "Summarizing the 2016Q4 filings for LUV...\n",
      "Summary saved for the 2016Q4 filings for LUV.\n",
      "Summarizing the 2017FY filings for LUV...\n",
      "Summary saved for the 2017FY filings for LUV.\n",
      "Summarizing the 2017Q1 filings for LUV...\n",
      "Summary saved for the 2017Q1 filings for LUV.\n",
      "Summarizing the 2017Q2 filings for LUV...\n",
      "Summary saved for the 2017Q2 filings for LUV.\n",
      "Summarizing the 2017Q3 filings for LUV...\n",
      "Summary saved for the 2017Q3 filings for LUV.\n",
      "Summarizing the 2017Q4 filings for LUV...\n",
      "Summary saved for the 2017Q4 filings for LUV.\n",
      "Summarizing the 2018FY filings for LUV...\n",
      "Summary saved for the 2018FY filings for LUV.\n",
      "Summarizing the 2018Q1 filings for LUV...\n",
      "Summary saved for the 2018Q1 filings for LUV.\n",
      "Summarizing the 2018Q2 filings for LUV...\n",
      "Summary saved for the 2018Q2 filings for LUV.\n",
      "Summarizing the 2018Q3 filings for LUV...\n",
      "Summary saved for the 2018Q3 filings for LUV.\n",
      "Summarizing the 2018Q4 filings for LUV...\n",
      "Summary saved for the 2018Q4 filings for LUV.\n",
      "Summarizing the 2019FY filings for LUV...\n",
      "Summary saved for the 2019FY filings for LUV.\n",
      "Summarizing the 2019Q1 filings for LUV...\n",
      "Summary saved for the 2019Q1 filings for LUV.\n",
      "Summarizing the 2019Q2 filings for LUV...\n",
      "Summary saved for the 2019Q2 filings for LUV.\n",
      "Summarizing the 2019Q3 filings for LUV...\n",
      "Summary saved for the 2019Q3 filings for LUV.\n",
      "Summarizing the 2019Q4 filings for LUV...\n",
      "Summary saved for the 2019Q4 filings for LUV.\n",
      "Summarizing the 2020FY filings for LUV...\n",
      "Summary saved for the 2020FY filings for LUV.\n",
      "Summarizing the 2020Q1 filings for LUV...\n",
      "Summary saved for the 2020Q1 filings for LUV.\n",
      "Summarizing the 2020Q2 filings for LUV...\n",
      "Summary saved for the 2020Q2 filings for LUV.\n",
      "Summarizing the 2020Q3 filings for LUV...\n",
      "Summary saved for the 2020Q3 filings for LUV.\n",
      "Summarizing the 2020Q4 filings for LUV...\n",
      "Summary saved for the 2020Q4 filings for LUV.\n",
      "Summarizing the 2021FY filings for LUV...\n",
      "Summary saved for the 2021FY filings for LUV.\n",
      "Summarizing the 2021Q1 filings for LUV...\n",
      "Summary saved for the 2021Q1 filings for LUV.\n",
      "Summarizing the 2021Q2 filings for LUV...\n",
      "Summary saved for the 2021Q2 filings for LUV.\n",
      "Summarizing the 2021Q3 filings for LUV...\n",
      "Summary saved for the 2021Q3 filings for LUV.\n",
      "Summarizing the 2021Q4 filings for LUV...\n",
      "Summary saved for the 2021Q4 filings for LUV.\n",
      "Summarizing the 2022FY filings for LUV...\n",
      "Summary saved for the 2022FY filings for LUV.\n",
      "Summarizing the 2022Q1 filings for LUV...\n",
      "Summary saved for the 2022Q1 filings for LUV.\n",
      "Summarizing the 2022Q2 filings for LUV...\n",
      "Summary saved for the 2022Q2 filings for LUV.\n",
      "Summarizing the 2022Q3 filings for LUV...\n",
      "Summary saved for the 2022Q3 filings for LUV.\n",
      "Summarizing the 2022Q4 filings for LUV...\n",
      "Summary saved for the 2022Q4 filings for LUV.\n",
      "Summarizing the 2023FY filings for LUV...\n",
      "Summary saved for the 2023FY filings for LUV.\n",
      "Summarizing the 2023Q1 filings for LUV...\n",
      "Summary saved for the 2023Q1 filings for LUV.\n",
      "Summarizing the 2023Q2 filings for LUV...\n",
      "Summary saved for the 2023Q2 filings for LUV.\n",
      "Summarizing the 2023Q3 filings for LUV...\n",
      "Summary saved for the 2023Q3 filings for LUV.\n",
      "Summarizing the 2023Q4 filings for LUV...\n",
      "Summary saved for the 2023Q4 filings for LUV.\n",
      "Summarizing the 2024FY filings for LUV...\n",
      "Summary saved for the 2024FY filings for LUV.\n",
      "Summarizing the 2024Q1 filings for LUV...\n",
      "Summary saved for the 2024Q1 filings for LUV.\n",
      "Summarizing the 2024Q2 filings for LUV...\n",
      "Summary saved for the 2024Q2 filings for LUV.\n",
      "Summarizing the 2024Q3 filings for LUV...\n",
      "Summary saved for the 2024Q3 filings for LUV.\n",
      "Summarizing the 2024Q4 filings for LUV...\n",
      "Summary saved for the 2024Q4 filings for LUV.\n"
     ]
    }
   ],
   "source": [
    "non_SEC_summaries = insights_pipeline(airline, year, period)"
   ]
  },
  {
   "cell_type": "code",
   "execution_count": 31,
   "id": "60ad4d0e",
   "metadata": {},
   "outputs": [
    {
     "data": {
      "text/plain": [
       "{'DAL': {'2022': {'Q1': \"### Insights from Delta Air Lines (DAL) SEC Filings for 2022 Q1\\n\\n#### Financial Insights\\n1. **Revenue Recovery**: In the Q1 2022 10-Q filing, Delta reported total operating revenue of $9.35 billion, a significant increase compared to $4.15 billion in Q1 2021. This surge reflects a robust recovery in travel demand as pandemic-related restrictions eased, with passenger revenue reaching $7.1 billion, up from $2.2 billion year-over-year.\\n\\n2. **Net Loss Reduction**: Delta reported a net loss of $1.2 billion for Q1 2022, a notable improvement from a net loss of $1.6 billion in Q1 2021. The narrowing of losses indicates effective cost management and a rebound in operational performance as travel demand picked up.\\n\\n3. **Operating Expenses**: Operating expenses for Q1 2022 totaled $10.6 billion, a 10% increase from the previous year. The rise in costs was primarily driven by higher fuel prices, which averaged $3.24 per gallon, up from $1.82 per gallon in Q1 2021. This highlights the ongoing challenges of inflation and rising operational costs in the airline industry.\\n\\n#### Operational Insights\\n4. **Capacity Restoration**: Delta's operational capacity in Q1 2022 was approximately 83% of 2019 levels, reflecting the airline's strategic focus on ramping up operations to meet increasing travel demand. This was a significant step towards full recovery as the airline aimed to restore its pre-pandemic service levels.\\n\\n5. **On-Time Performance**: Delta achieved an on-time performance rate of 81% in Q1 2022, which, while an improvement, still faced challenges due to weather disruptions and staffing shortages. The airline's focus on reliability remains a critical component of its operational strategy.\\n\\n#### Commercial Strategy Insights\\n6. **Network Expansion**: In its 10-K filing, Delta announced plans to expand its international route network, particularly in Europe and Asia, as travel restrictions began to ease. This strategic move aims to capture pent-up demand and enhance market share in key international markets.\\n\\n7. **Loyalty Program Growth**: Delta's SkyMiles program continued to show strength, with membership growing by 10% year-over-year. The airline emphasized its loyalty program as a cornerstone of its commercial strategy, aiming to deepen customer engagement and drive repeat business.\\n\\n#### Labor Insights\\n8. **Workforce Challenges**: Delta's Q1 2022 filings highlighted ongoing labor shortages, particularly in operational roles. The airline reported efforts to recruit and retain staff, including increased wages and enhanced benefits, as part of its strategy to improve service levels and operational efficiency.\\n\\n#### Executive Personnel Insights\\n9. **Leadership Changes**: In an 8-K filing dated March 2022, Delta announced the appointment of John Laughter as Chief Operating Officer, succeeding the retiring Gil West. This leadership transition is expected to bring fresh perspectives to operational strategies as the airline navigates post-pandemic recovery.\\n\\n#### Route Network Insights\\n10. **New Routes and Services**: Delta's Q1 2022 filings indicated the launch of new routes to popular leisure destinations, including increased service to Florida and the Caribbean. This strategic focus on leisure travel aligns with consumer preferences as travel rebounds, positioning Delta to capitalize on seasonal demand.\\n\\n### Wrap Up\\nDelta Air Lines' Q1 2022 SEC filings reveal a company in recovery mode, with significant improvements in revenue and operational capacity compared to the previous year. However, challenges such as rising operational costs and labor shortages persist. Strategic initiatives, including network expansion and leadership changes, position Delta to navigate the evolving landscape of the airline industry effectively. As travel demand continues to grow, Delta's focus on customer loyalty and operational reliability will be critical to sustaining its recovery momentum.\"}}}"
      ]
     },
     "execution_count": 31,
     "metadata": {},
     "output_type": "execute_result"
    }
   ],
   "source": [
    "non_SEC_summaries"
   ]
  }
 ],
 "metadata": {
  "kernelspec": {
   "display_name": "Python 3",
   "language": "python",
   "name": "python3"
  },
  "language_info": {
   "codemirror_mode": {
    "name": "ipython",
    "version": 3
   },
   "file_extension": ".py",
   "mimetype": "text/x-python",
   "name": "python",
   "nbconvert_exporter": "python",
   "pygments_lexer": "ipython3",
   "version": "3.12.8"
  }
 },
 "nbformat": 4,
 "nbformat_minor": 5
}
